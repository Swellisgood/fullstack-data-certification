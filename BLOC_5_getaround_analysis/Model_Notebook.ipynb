{
 "cells": [
  {
   "cell_type": "code",
   "execution_count": 381,
   "metadata": {},
   "outputs": [],
   "source": [
    "import pandas as pd\n",
    "import numpy as np\n",
    "import matplotlib.pyplot as plt\n",
    "import seaborn as sns\n",
    "\n",
    "from sklearn.model_selection import train_test_split\n",
    "from sklearn.linear_model import LinearRegression\n",
    "from sklearn.ensemble import GradientBoostingRegressor\n",
    "from sklearn.preprocessing import StandardScaler\n",
    "from sklearn.preprocessing import OneHotEncoder\n",
    "from sklearn.compose import ColumnTransformer\n",
    "import sklearn \n",
    "import xgboost\n",
    "from sklearn.pipeline import Pipeline\n",
    "from sklearn.pipeline import make_pipeline\n",
    "from sklearn.model_selection import GridSearchCV\n",
    "from xgboost import XGBRegressor\n",
    "from sklearn.metrics import r2_score, confusion_matrix\n",
    "\n",
    "import joblib\n",
    "\n",
    "\n",
    "import warnings\n",
    "warnings.filterwarnings('ignore')\n"
   ]
  },
  {
   "cell_type": "code",
   "execution_count": 394,
   "metadata": {},
   "outputs": [
    {
     "data": {
      "text/html": [
       "<div>\n",
       "<style scoped>\n",
       "    .dataframe tbody tr th:only-of-type {\n",
       "        vertical-align: middle;\n",
       "    }\n",
       "\n",
       "    .dataframe tbody tr th {\n",
       "        vertical-align: top;\n",
       "    }\n",
       "\n",
       "    .dataframe thead th {\n",
       "        text-align: right;\n",
       "    }\n",
       "</style>\n",
       "<table border=\"1\" class=\"dataframe\">\n",
       "  <thead>\n",
       "    <tr style=\"text-align: right;\">\n",
       "      <th></th>\n",
       "      <th>model_key</th>\n",
       "      <th>mileage</th>\n",
       "      <th>engine_power</th>\n",
       "      <th>fuel</th>\n",
       "      <th>paint_color</th>\n",
       "      <th>car_type</th>\n",
       "      <th>private_parking_available</th>\n",
       "      <th>has_gps</th>\n",
       "      <th>has_air_conditioning</th>\n",
       "      <th>automatic_car</th>\n",
       "      <th>has_getaround_connect</th>\n",
       "      <th>has_speed_regulator</th>\n",
       "      <th>winter_tires</th>\n",
       "      <th>rental_price_per_day</th>\n",
       "    </tr>\n",
       "  </thead>\n",
       "  <tbody>\n",
       "    <tr>\n",
       "      <th>0</th>\n",
       "      <td>Citroën</td>\n",
       "      <td>140411</td>\n",
       "      <td>100</td>\n",
       "      <td>diesel</td>\n",
       "      <td>black</td>\n",
       "      <td>convertible</td>\n",
       "      <td>True</td>\n",
       "      <td>True</td>\n",
       "      <td>False</td>\n",
       "      <td>False</td>\n",
       "      <td>True</td>\n",
       "      <td>True</td>\n",
       "      <td>True</td>\n",
       "      <td>106</td>\n",
       "    </tr>\n",
       "    <tr>\n",
       "      <th>1</th>\n",
       "      <td>Citroën</td>\n",
       "      <td>183297</td>\n",
       "      <td>120</td>\n",
       "      <td>diesel</td>\n",
       "      <td>white</td>\n",
       "      <td>convertible</td>\n",
       "      <td>False</td>\n",
       "      <td>False</td>\n",
       "      <td>False</td>\n",
       "      <td>False</td>\n",
       "      <td>True</td>\n",
       "      <td>False</td>\n",
       "      <td>True</td>\n",
       "      <td>101</td>\n",
       "    </tr>\n",
       "    <tr>\n",
       "      <th>2</th>\n",
       "      <td>Citroën</td>\n",
       "      <td>128035</td>\n",
       "      <td>135</td>\n",
       "      <td>diesel</td>\n",
       "      <td>red</td>\n",
       "      <td>convertible</td>\n",
       "      <td>True</td>\n",
       "      <td>True</td>\n",
       "      <td>False</td>\n",
       "      <td>False</td>\n",
       "      <td>True</td>\n",
       "      <td>True</td>\n",
       "      <td>True</td>\n",
       "      <td>158</td>\n",
       "    </tr>\n",
       "    <tr>\n",
       "      <th>3</th>\n",
       "      <td>Citroën</td>\n",
       "      <td>97097</td>\n",
       "      <td>160</td>\n",
       "      <td>diesel</td>\n",
       "      <td>silver</td>\n",
       "      <td>convertible</td>\n",
       "      <td>True</td>\n",
       "      <td>True</td>\n",
       "      <td>False</td>\n",
       "      <td>False</td>\n",
       "      <td>False</td>\n",
       "      <td>True</td>\n",
       "      <td>True</td>\n",
       "      <td>183</td>\n",
       "    </tr>\n",
       "    <tr>\n",
       "      <th>4</th>\n",
       "      <td>Citroën</td>\n",
       "      <td>152352</td>\n",
       "      <td>225</td>\n",
       "      <td>petrol</td>\n",
       "      <td>black</td>\n",
       "      <td>convertible</td>\n",
       "      <td>True</td>\n",
       "      <td>True</td>\n",
       "      <td>False</td>\n",
       "      <td>False</td>\n",
       "      <td>True</td>\n",
       "      <td>True</td>\n",
       "      <td>True</td>\n",
       "      <td>131</td>\n",
       "    </tr>\n",
       "  </tbody>\n",
       "</table>\n",
       "</div>"
      ],
      "text/plain": [
       "  model_key  mileage  engine_power    fuel paint_color     car_type  \\\n",
       "0   Citroën   140411           100  diesel       black  convertible   \n",
       "1   Citroën   183297           120  diesel       white  convertible   \n",
       "2   Citroën   128035           135  diesel         red  convertible   \n",
       "3   Citroën    97097           160  diesel      silver  convertible   \n",
       "4   Citroën   152352           225  petrol       black  convertible   \n",
       "\n",
       "   private_parking_available  has_gps  has_air_conditioning  automatic_car  \\\n",
       "0                       True     True                 False          False   \n",
       "1                      False    False                 False          False   \n",
       "2                       True     True                 False          False   \n",
       "3                       True     True                 False          False   \n",
       "4                       True     True                 False          False   \n",
       "\n",
       "   has_getaround_connect  has_speed_regulator  winter_tires  \\\n",
       "0                   True                 True          True   \n",
       "1                   True                False          True   \n",
       "2                   True                 True          True   \n",
       "3                  False                 True          True   \n",
       "4                   True                 True          True   \n",
       "\n",
       "   rental_price_per_day  \n",
       "0                   106  \n",
       "1                   101  \n",
       "2                   158  \n",
       "3                   183  \n",
       "4                   131  "
      ]
     },
     "execution_count": 394,
     "metadata": {},
     "output_type": "execute_result"
    }
   ],
   "source": [
    "data = pd.read_csv('API/df_pricing.csv')\n",
    "data.head()"
   ]
  },
  {
   "cell_type": "code",
   "execution_count": 395,
   "metadata": {},
   "outputs": [
    {
     "data": {
      "text/plain": [
       "(4709, 14)"
      ]
     },
     "execution_count": 395,
     "metadata": {},
     "output_type": "execute_result"
    }
   ],
   "source": [
    "data.shape"
   ]
  },
  {
   "cell_type": "code",
   "execution_count": 396,
   "metadata": {},
   "outputs": [],
   "source": [
    "list=['Mini','Mazda','Honda','Lexus','Alfa Romeo']\n",
    "for i in range(len(list)) : \n",
    "    data.drop(data[(data['model_key'] ==list[i])].index,axis=0,inplace=True)"
   ]
  },
  {
   "cell_type": "code",
   "execution_count": 397,
   "metadata": {},
   "outputs": [],
   "source": [
    "data.dropna(inplace=True)"
   ]
  },
  {
   "cell_type": "code",
   "execution_count": 398,
   "metadata": {},
   "outputs": [
    {
     "name": "stdout",
     "output_type": "stream",
     "text": [
      "Separating labels from features...\n",
      "...Done.\n",
      "\n",
      "Y : \n",
      "0    106\n",
      "1    101\n",
      "2    158\n",
      "3    183\n",
      "4    131\n",
      "Name: rental_price_per_day, dtype: int64\n",
      "\n",
      "X :\n",
      "  model_key  mileage  engine_power    fuel paint_color     car_type  \\\n",
      "0   Citroën   140411           100  diesel       black  convertible   \n",
      "1   Citroën   183297           120  diesel       white  convertible   \n",
      "2   Citroën   128035           135  diesel         red  convertible   \n",
      "3   Citroën    97097           160  diesel      silver  convertible   \n",
      "4   Citroën   152352           225  petrol       black  convertible   \n",
      "\n",
      "   private_parking_available  has_gps  has_air_conditioning  automatic_car  \\\n",
      "0                       True     True                 False          False   \n",
      "1                      False    False                 False          False   \n",
      "2                       True     True                 False          False   \n",
      "3                       True     True                 False          False   \n",
      "4                       True     True                 False          False   \n",
      "\n",
      "   has_getaround_connect  has_speed_regulator  winter_tires  \n",
      "0                   True                 True          True  \n",
      "1                   True                False          True  \n",
      "2                   True                 True          True  \n",
      "3                  False                 True          True  \n",
      "4                   True                 True          True  \n"
     ]
    }
   ],
   "source": [
    "# Separate target variable Y from features X\n",
    "print(\"Separating labels from features...\")\n",
    "target_variable = \"rental_price_per_day\"\n",
    "\n",
    "X = data.drop(target_variable, axis = 1)\n",
    "Y = data.loc[:,target_variable]\n",
    "\n",
    "print(\"...Done.\")\n",
    "print()\n",
    "\n",
    "print('Y : ')\n",
    "print(Y.head())\n",
    "print()\n",
    "print('X :')\n",
    "print(X.head())"
   ]
  },
  {
   "cell_type": "code",
   "execution_count": 358,
   "metadata": {},
   "outputs": [],
   "source": [
    "unvalid_models = ['Suzuki', 'Porsche', 'Ford', 'KIA Motors', 'Alfa Romeo', 'Fiat', 'Lexus', 'Lamborghini', 'Mini', 'Mazda', 'Honda', 'Yamaha']"
   ]
  },
  {
   "cell_type": "code",
   "execution_count": 359,
   "metadata": {},
   "outputs": [],
   "source": [
    "to_drop = data['model_key'].isin(unvalid_models)\n",
    "data = data[~to_drop]"
   ]
  },
  {
   "cell_type": "code",
   "execution_count": 400,
   "metadata": {},
   "outputs": [],
   "source": [
    "#drop missing values\n",
    "data = data.dropna()"
   ]
  },
  {
   "cell_type": "code",
   "execution_count": 401,
   "metadata": {},
   "outputs": [
    {
     "data": {
      "text/plain": [
       "(4704, 14)"
      ]
     },
     "execution_count": 401,
     "metadata": {},
     "output_type": "execute_result"
    }
   ],
   "source": [
    "data.shape"
   ]
  },
  {
   "cell_type": "code",
   "execution_count": 402,
   "metadata": {},
   "outputs": [],
   "source": [
    "features_list = data.columns[:-1].tolist()\n",
    "target_variable = 'rental_price_per_day'\n",
    "\n",
    "X = data.loc[:, features_list]\n",
    "Y = data.loc[:, target_variable]"
   ]
  },
  {
   "cell_type": "code",
   "execution_count": 403,
   "metadata": {},
   "outputs": [],
   "source": [
    "X_train, X_test, Y_train, Y_test = train_test_split(X, Y, test_size=0.2, random_state=42)"
   ]
  },
  {
   "cell_type": "code",
   "execution_count": 404,
   "metadata": {},
   "outputs": [
    {
     "name": "stdout",
     "output_type": "stream",
     "text": [
      "Found numeric features  ['mileage', 'engine_power']\n",
      "Found categorical features  ['model_key', 'fuel', 'paint_color', 'car_type', 'private_parking_available', 'has_gps', 'has_air_conditioning', 'automatic_car', 'has_getaround_connect', 'has_speed_regulator', 'winter_tires']\n"
     ]
    }
   ],
   "source": [
    "numeric_features = []\n",
    "categorical_features = []\n",
    "for i,t in X.dtypes.iteritems():\n",
    "    if ('float' in str(t)) or ('int' in str(t)) :\n",
    "        numeric_features.append(i)\n",
    "    else :\n",
    "        categorical_features.append(i)\n",
    "\n",
    "print('Found numeric features ', numeric_features)\n",
    "print('Found categorical features ', categorical_features)"
   ]
  },
  {
   "cell_type": "code",
   "execution_count": 405,
   "metadata": {},
   "outputs": [],
   "source": [
    "# Create pipeline for numeric features\n",
    "numeric_transformer = Pipeline(steps=[\n",
    "    ('scaler', StandardScaler())\n",
    "])\n",
    "# Create pipeline for categorical features\n",
    "categorical_transformer = Pipeline(\n",
    "    steps=[\n",
    "    ('encoder', OneHotEncoder(drop='first')) # first column will be dropped to avoid creating correlations between features\n",
    "    ])\n",
    "# Use ColumnTransformer to make a preprocessor object that describes all the treatments to be done\n",
    "preprocessor = ColumnTransformer(\n",
    "    transformers=[\n",
    "        ('num', numeric_transformer, numeric_features),\n",
    "        ('cat', categorical_transformer, categorical_features)\n",
    "    ])"
   ]
  },
  {
   "cell_type": "markdown",
   "metadata": {},
   "source": [
    "---\n",
    "\n",
    "Let's start with a basic linear regression model and work our way up to a more complex model."
   ]
  },
  {
   "cell_type": "code",
   "execution_count": 325,
   "metadata": {},
   "outputs": [
    {
     "name": "stdout",
     "output_type": "stream",
     "text": [
      "f1-score on train set :  0.7264306632142536\n",
      "f1-score on test set :  0.6444696231873723\n"
     ]
    }
   ],
   "source": [
    "linear = LinearRegression()\n",
    "linear.fit(X_train, Y_train)\n",
    "\n",
    "train_pred = linear.predict(X_train)\n",
    "test_pred = linear.predict(X_test)\n",
    "\n",
    "print(\"f1-score on train set : \", r2_score(Y_train, train_pred))\n",
    "print(\"f1-score on test set : \", r2_score(Y_test, test_pred))"
   ]
  },
  {
   "cell_type": "markdown",
   "metadata": {},
   "source": [
    "### Biggest contributors to the model"
   ]
  },
  {
   "cell_type": "code",
   "execution_count": 326,
   "metadata": {},
   "outputs": [
    {
     "data": {
      "image/png": "[encoded data removed]",
      "text/plain": [
       "<Figure size 1000x1000 with 1 Axes>"
      ]
     },
     "metadata": {},
     "output_type": "display_data"
    }
   ],
   "source": [
    "col_names = (preprocessor.transformers_[0][1].get_feature_names_out()).tolist() + (preprocessor.transformers_[1][1].get_feature_names_out()).tolist()\n",
    "feat_importances = pd.Series(np.abs(linear.coef_), index=col_names).sort_values(ascending=False)[:20]\n",
    "plt.figure(figsize=(10,10))\n",
    "feat_importances.sort_values().plot(kind='barh', color='blue')\n",
    "plt.title('Linear Regression Feature Importance')\n",
    "plt.show() "
   ]
  },
  {
   "cell_type": "markdown",
   "metadata": {},
   "source": [
    "---\n",
    "\n",
    "## Gradient Boosting Regressor\n"
   ]
  },
  {
   "cell_type": "markdown",
   "metadata": {},
   "source": [
    "Let's perform a grid search to find the best parameters for our model."
   ]
  },
  {
   "cell_type": "code",
   "execution_count": 146,
   "metadata": {},
   "outputs": [
    {
     "name": "stdout",
     "output_type": "stream",
     "text": [
      "Best: 0.783232 using {'learning_rate': 0.1, 'max_depth': 12, 'max_leaf_nodes': 30, 'min_samples_leaf': 2, 'n_estimators': 150}\n"
     ]
    }
   ],
   "source": [
    "from sklearn.model_selection import GridSearchCV\n",
    "\n",
    "gbr = GradientBoostingRegressor()\n",
    "params = {\n",
    "    'learning_rate': [0.1,0.05,0.2],\n",
    "    'max_leaf_nodes': [20,30,40,50,60],\n",
    "    'max_depth' : [6,8,10,12,16],\n",
    "    'min_samples_leaf' : [2,4,6,8,10],\n",
    "    'n_estimators' : [75,100,125,150]\n",
    "}\n",
    "\n",
    "gridsearch = GridSearchCV(gbr, param_grid = params, n_jobs=-1, cv = 7,scoring='r2') \n",
    "gridsearch.fit(X_train, Y_train)\n",
    "print(\"Best: %f using %s\" % (gridsearch.best_score_, gridsearch.best_params_))"
   ]
  },
  {
   "cell_type": "code",
   "execution_count": 327,
   "metadata": {},
   "outputs": [
    {
     "name": "stdout",
     "output_type": "stream",
     "text": [
      "f1-score on train set :  0.9194932930505384\n",
      "f1-score on test set :  0.7403158806097809\n"
     ]
    }
   ],
   "source": [
    "gbr = GradientBoostingRegressor(learning_rate= 0.1, max_depth= 12, max_leaf_nodes= 30, min_samples_leaf= 2, n_estimators= 150)\n",
    "gbr.fit(X_train, Y_train)\n",
    "\n",
    "train_pred = gbr.predict(X_train)\n",
    "test_pred = gbr.predict(X_test)\n",
    "\n",
    "print(\"f1-score on train set : \", r2_score(Y_train, train_pred))\n",
    "print(\"f1-score on test set : \", r2_score(Y_test, test_pred))"
   ]
  },
  {
   "cell_type": "markdown",
   "metadata": {},
   "source": [
    "We have a better score with XGBoost compared to the linear regression model. That's because XGBoost is a more complex model. it relies on a gradient descent algorithm to minimize the loss function. It is a greedy algorithm that builds the model in a stage-wise fashion. It builds the model in a stage-wise fashion like other boosting algorithms do, and it generalizes them by allowing optimization of an arbitrary differentiable loss function."
   ]
  },
  {
   "cell_type": "code",
   "execution_count": 328,
   "metadata": {},
   "outputs": [
    {
     "data": {
      "image/png": "[encoded data removed]",
      "text/plain": [
       "<Figure size 1000x1000 with 1 Axes>"
      ]
     },
     "metadata": {},
     "output_type": "display_data"
    }
   ],
   "source": [
    "col_names = (preprocessor.transformers_[0][1].get_feature_names_out()).tolist() + (preprocessor.transformers_[1][1].get_feature_names_out()).tolist()\n",
    "feat_importances = pd.Series(gbr.feature_importances_, index=col_names).sort_values(ascending=False)[:20] # limiting to 20 features\n",
    "plt.figure(figsize=(10,10))\n",
    "feat_importances.sort_values().plot(kind='barh')\n",
    "plt.show()"
   ]
  },
  {
   "cell_type": "markdown",
   "metadata": {},
   "source": [
    "Strong reliance of the model on the engine power, then mileage and if the car has GPS or not respectively"
   ]
  },
  {
   "cell_type": "code",
   "execution_count": null,
   "metadata": {},
   "outputs": [],
   "source": [
    "model = Pipeline(steps=[\n",
    "        (\"Preprocessing\", preprocessor),\n",
    "        (\"Regressor\",XGBRegressor(learning_rate= 0.1, max_depth= 12, max_leaf_nodes= 30, min_samples_leaf= 2, n_estimators= 150))\n",
    "    ])"
   ]
  },
  {
   "cell_type": "code",
   "execution_count": null,
   "metadata": {},
   "outputs": [
    {
     "name": "stdout",
     "output_type": "stream",
     "text": [
      "r2 on train set :  0.9049035198876252\n",
      "r2 on test set :  0.7556533641207392\n"
     ]
    }
   ],
   "source": [
    "model.fit(X_train, Y_train)\n",
    "\n",
    "train_pred = model.predict(X_train)\n",
    "test_pred = model.predict(X_test)\n",
    "\n",
    "print(\"r2 on train set : \", r2_score(Y_train, train_pred))\n",
    "print(\"r2 on test set : \", r2_score(Y_test, test_pred))"
   ]
  },
  {
   "cell_type": "code",
   "execution_count": null,
   "metadata": {},
   "outputs": [
    {
     "data": {
      "text/plain": [
       "['API/gbr_model.joblib']"
      ]
     },
     "metadata": {},
     "output_type": "display_data"
    }
   ],
   "source": [
    "from joblib import dump, load\n",
    "dump(model, 'API/gbr_model.joblib')"
   ]
  },
  {
   "cell_type": "code",
   "execution_count": null,
   "metadata": {},
   "outputs": [
    {
     "data": {
      "text/html": [
       "<div>\n",
       "<style scoped>\n",
       "    .dataframe tbody tr th:only-of-type {\n",
       "        vertical-align: middle;\n",
       "    }\n",
       "\n",
       "    .dataframe tbody tr th {\n",
       "        vertical-align: top;\n",
       "    }\n",
       "\n",
       "    .dataframe thead th {\n",
       "        text-align: right;\n",
       "    }\n",
       "</style>\n",
       "<table border=\"1\" class=\"dataframe\">\n",
       "  <thead>\n",
       "    <tr style=\"text-align: right;\">\n",
       "      <th></th>\n",
       "      <th>model_key</th>\n",
       "      <th>mileage</th>\n",
       "      <th>engine_power</th>\n",
       "      <th>fuel</th>\n",
       "      <th>paint_color</th>\n",
       "      <th>car_type</th>\n",
       "      <th>private_parking_available</th>\n",
       "      <th>has_gps</th>\n",
       "      <th>has_air_conditioning</th>\n",
       "      <th>automatic_car</th>\n",
       "      <th>has_getaround_connect</th>\n",
       "      <th>has_speed_regulator</th>\n",
       "      <th>winter_tires</th>\n",
       "    </tr>\n",
       "  </thead>\n",
       "  <tbody>\n",
       "    <tr>\n",
       "      <th>0</th>\n",
       "      <td>Peugeot</td>\n",
       "      <td>14699</td>\n",
       "      <td>100</td>\n",
       "      <td>diesel</td>\n",
       "      <td>black</td>\n",
       "      <td>sedan</td>\n",
       "      <td>False</td>\n",
       "      <td>True</td>\n",
       "      <td>False</td>\n",
       "      <td>False</td>\n",
       "      <td>False</td>\n",
       "      <td>True</td>\n",
       "      <td>True</td>\n",
       "    </tr>\n",
       "  </tbody>\n",
       "</table>\n",
       "</div>"
      ],
      "text/plain": [
       "  model_key  mileage  engine_power    fuel paint_color car_type  \\\n",
       "0   Peugeot    14699           100  diesel       black    sedan   \n",
       "\n",
       "   private_parking_available  has_gps  has_air_conditioning  automatic_car  \\\n",
       "0                      False     True                 False          False   \n",
       "\n",
       "   has_getaround_connect  has_speed_regulator  winter_tires  \n",
       "0                  False                 True          True  "
      ]
     },
     "metadata": {},
     "output_type": "display_data"
    }
   ],
   "source": [
    "data = pd.DataFrame(dict(predictionFeatures), index=[0])\n",
    "data"
   ]
  },
  {
   "cell_type": "code",
   "execution_count": null,
   "metadata": {},
   "outputs": [],
   "source": [
    "prediction = model.predict(data)\n",
    "response = {\"predictions\": prediction.tolist()[0]}"
   ]
  },
  {
   "cell_type": "code",
   "execution_count": null,
   "metadata": {},
   "outputs": [
    {
     "data": {
      "text/plain": [
       "{'predictions': 137.42332458496094}"
      ]
     },
     "metadata": {},
     "output_type": "display_data"
    }
   ],
   "source": [
    "response"
   ]
  },
  {
   "cell_type": "markdown",
   "metadata": {},
   "source": [
    "# Setting up an API"
   ]
  },
  {
   "cell_type": "code",
   "execution_count": 329,
   "metadata": {},
   "outputs": [
    {
     "data": {
      "text/plain": [
       "['API/preprocessor.pkl']"
      ]
     },
     "execution_count": 329,
     "metadata": {},
     "output_type": "execute_result"
    }
   ],
   "source": [
    "joblib.dump(gbr,'API/gbr_model.pkl')\n",
    "joblib.dump(preprocessor,'API/preprocessor.pkl')"
   ]
  },
  {
   "cell_type": "code",
   "execution_count": 338,
   "metadata": {},
   "outputs": [
    {
     "data": {
      "text/plain": [
       "['API/preprocessor.joblib']"
      ]
     },
     "execution_count": 338,
     "metadata": {},
     "output_type": "execute_result"
    }
   ],
   "source": [
    "from joblib import dump, load\n",
    "dump(gbr, 'API/gbr_model.joblib')"
   ]
  },
  {
   "cell_type": "code",
   "execution_count": 330,
   "metadata": {},
   "outputs": [],
   "source": [
    "predictionFeatures = {\n",
    "                        \"model_key\" : \"Peugeot\",\n",
    "                        \"mileage\" : 14699,\n",
    "                        \"engine_power\" : 100,\n",
    "                        \"fuel\" : \"diesel\",\n",
    "                        \"paint_color\" : \"black\",\n",
    "                        \"car_type\" : \"sedan\",\n",
    "                        \"private_parking_available\" : False,\n",
    "                        \"has_gps\" : True,\n",
    "                        \"has_air_conditioning\" : False,\n",
    "                        \"automatic_car\" : False,\n",
    "                        \"has_getaround_connect\" : False,\n",
    "                        \"has_speed_regulator\" : True,\n",
    "                        \"winter_tires\" : True\n",
    "                        }"
   ]
  },
  {
   "cell_type": "code",
   "execution_count": null,
   "metadata": {},
   "outputs": [
    {
     "name": "stdout",
     "output_type": "stream",
     "text": [
      "['model_key', 'mileage', 'engine_power', 'fuel', 'paint_color', 'car_type', 'private_parking_available', 'has_gps', 'has_air_conditioning', 'automatic_car', 'has_getaround_connect', 'has_speed_regulator', 'winter_tires']\n",
      "['Peugeot', 14699, 100, 'diesel', 'black', 'sedan', False, True, False, False, False, True, True]\n"
     ]
    }
   ],
   "source": [
    "append_list = []\n",
    "for key in predictionFeatures.keys():\n",
    "    append_list.append(key)\n",
    "    \n",
    "print(append_list)\n",
    "\n",
    "values_list = []\n",
    "for key in predictionFeatures.values():\n",
    "    values_list.append(key)\n",
    "    \n",
    "print(values_list)"
   ]
  },
  {
   "cell_type": "code",
   "execution_count": 331,
   "metadata": {},
   "outputs": [],
   "source": [
    "input_df = pd.DataFrame(columns=[append_list])\n",
    "input_df.loc[0,:] = values_list"
   ]
  },
  {
   "cell_type": "code",
   "execution_count": 332,
   "metadata": {},
   "outputs": [
    {
     "data": {
      "text/html": [
       "<div>\n",
       "<style scoped>\n",
       "    .dataframe tbody tr th:only-of-type {\n",
       "        vertical-align: middle;\n",
       "    }\n",
       "\n",
       "    .dataframe tbody tr th {\n",
       "        vertical-align: top;\n",
       "    }\n",
       "\n",
       "    .dataframe thead tr th {\n",
       "        text-align: left;\n",
       "    }\n",
       "</style>\n",
       "<table border=\"1\" class=\"dataframe\">\n",
       "  <thead>\n",
       "    <tr>\n",
       "      <th></th>\n",
       "      <th>model_key</th>\n",
       "      <th>mileage</th>\n",
       "      <th>engine_power</th>\n",
       "      <th>fuel</th>\n",
       "      <th>paint_color</th>\n",
       "      <th>car_type</th>\n",
       "      <th>private_parking_available</th>\n",
       "      <th>has_gps</th>\n",
       "      <th>has_air_conditioning</th>\n",
       "      <th>automatic_car</th>\n",
       "      <th>has_getaround_connect</th>\n",
       "      <th>has_speed_regulator</th>\n",
       "      <th>winter_tires</th>\n",
       "    </tr>\n",
       "  </thead>\n",
       "  <tbody>\n",
       "    <tr>\n",
       "      <th>0</th>\n",
       "      <td>Peugeot</td>\n",
       "      <td>14699</td>\n",
       "      <td>100</td>\n",
       "      <td>diesel</td>\n",
       "      <td>black</td>\n",
       "      <td>sedan</td>\n",
       "      <td>False</td>\n",
       "      <td>True</td>\n",
       "      <td>False</td>\n",
       "      <td>False</td>\n",
       "      <td>False</td>\n",
       "      <td>True</td>\n",
       "      <td>True</td>\n",
       "    </tr>\n",
       "  </tbody>\n",
       "</table>\n",
       "</div>"
      ],
      "text/plain": [
       "  model_key mileage engine_power    fuel paint_color car_type  \\\n",
       "0   Peugeot   14699          100  diesel       black    sedan   \n",
       "\n",
       "  private_parking_available has_gps has_air_conditioning automatic_car  \\\n",
       "0                     False    True                False         False   \n",
       "\n",
       "  has_getaround_connect has_speed_regulator winter_tires  \n",
       "0                 False                True         True  "
      ]
     },
     "execution_count": 332,
     "metadata": {},
     "output_type": "execute_result"
    }
   ],
   "source": [
    "input_df"
   ]
  },
  {
   "cell_type": "code",
   "execution_count": 333,
   "metadata": {},
   "outputs": [
    {
     "name": "stdout",
     "output_type": "stream",
     "text": [
      "Prediction for rental price per day :  141.77444178009154 $\n"
     ]
    }
   ],
   "source": [
    "X = input_df\n",
    "X = preprocessor.transform(X)\n",
    "\n",
    "pred = gbr.predict(X)\n",
    "print('Prediction for rental price per day : ', pred[0],'$')"
   ]
  },
  {
   "cell_type": "markdown",
   "metadata": {},
   "source": [
    "The Pipeline of the API seems to be working, let's build the API."
   ]
  },
  {
   "cell_type": "code",
   "execution_count": 335,
   "metadata": {},
   "outputs": [],
   "source": [
    "import requests"
   ]
  },
  {
   "cell_type": "code",
   "execution_count": 341,
   "metadata": {},
   "outputs": [],
   "source": [
    "url = 'http://localhost:4000/predict'"
   ]
  },
  {
   "cell_type": "code",
   "execution_count": null,
   "metadata": {},
   "outputs": [
    {
     "name": "stdout",
     "output_type": "stream",
     "text": [
      "Prediction for rental price per day :  141.77444178009154 $\n"
     ]
    }
   ],
   "source": [
    "response = requests.post(url,\n",
    "    json={\n",
    "        \"model_key\" : \"Peugeot\",\n",
    "        \"mileage\" : 14699,\n",
    "        \"engine_power\" : 100,\n",
    "        \"fuel\" : \"diesel\",\n",
    "        \"paint_color\" : \"black\",\n",
    "        \"car_type\" : \"sedan\",\n",
    "        \"private_parking_available\" : False,\n",
    "        \"has_gps\" : True,\n",
    "        \"has_air_conditioning\" : False,\n",
    "        \"automatic_car\" : False,\n",
    "        \"has_getaround_connect\" : False,\n",
    "        \"has_speed_regulator\" : True,\n",
    "        \"winter_tires\" : True\n",
    "        })\n",
    "\n",
    "print(response.json())"
   ]
  },
  {
   "cell_type": "markdown",
   "metadata": {},
   "source": [
    "the API works locally, let's deploy it on Heroku !"
   ]
  }
 ],
 "metadata": {
  "kernelspec": {
   "display_name": "Python 3.10.9 ('venv': venv)",
   "language": "python",
   "name": "python3"
  },
  "language_info": {
   "codemirror_mode": {
    "name": "ipython",
    "version": 3
   },
   "file_extension": ".py",
   "mimetype": "text/x-python",
   "name": "python",
   "nbconvert_exporter": "python",
   "pygments_lexer": "ipython3",
   "version": "3.10.9"
  },
  "orig_nbformat": 4,
  "vscode": {
   "interpreter": {
    "hash": "ec7e7428d410c14898b28daf2258c13308bbd8476ad68d6b7c2fc7a1f93dcc9d"
   }
  }
 },
 "nbformat": 4,
 "nbformat_minor": 2
}
