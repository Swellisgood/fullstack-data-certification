{
 "cells": [
  {
   "cell_type": "markdown",
   "metadata": {},
   "source": [
    "<center><img src=\"https://cdn.corporate.walmart.com/dims4/WMT/71169a3/2147483647/strip/true/crop/2389x930+0+0/resize/980x381!/quality/90/?url=https%3A%2F%2Fcdn.corporate.walmart.com%2Fd6%2Fe7%2F48e91bac4a8ca8f22985b3682370%2Fwalmart-logos-lockupwtag-horiz-blu-rgb.png\" alt=\"WALMART LOGO\" /></center>\n",
    "\n",
    "# Walmart : predict weekly sales\n",
    "\n",
    "## Company's Description 📇\n",
    "\n",
    "Walmart Inc. is an American multinational retail corporation that operates a chain of hypermarkets, discount department stores, and grocery stores from the United States, headquartered in Bentonville, Arkansas. The company was founded by Sam Walton in 1962.\n",
    "\n",
    "## Project 🚧\n",
    "\n",
    "Walmart's marketing service has asked you to build a machine learning model able to estimate the weekly sales in their stores, with the best precision possible on the predictions made. Such a model would help them understand better how the sales are influenced by economic indicators, and might be used to plan future marketing campaigns.\n",
    "\n",
    "## Goals 🎯\n",
    "\n",
    "The project can be divided into three steps:\n",
    "\n",
    "- Part 1 : make an EDA and all the necessary preprocessings to prepare data for machine learning\n",
    "- Part 2 : train a **linear regression model** (baseline)\n",
    "- Part 3 : avoid overfitting by training a **regularized regression model**\n",
    "\n",
    "## Scope of this project 🖼️\n",
    "\n",
    "For this project, you'll work with a dataset that contains information about weekly sales achieved by different Walmart stores, and other variables such as the unemployment rate or the fuel price, that might be useful for predicting the amount of sales. The dataset has been taken from a Kaggle competition, but we made some changes compared to the original data. Please make sure that you're using **our** custom dataset (available on JULIE). 🤓"
   ]
  },
  {
   "cell_type": "markdown",
   "metadata": {},
   "source": [
    "## Deliverable 📬\n",
    "\n",
    "To complete this project, your team should: \n",
    "\n",
    "- Create some visualizations\n",
    "- Train at least one **linear regression model** on the dataset, that predicts the amount of weekly sales as a function of the other variables\n",
    "- Assess the performances of the model by using a metric that is relevant for regression problems\n",
    "- Interpret the coefficients of the model to identify what features are important for the prediction\n",
    "- Train at least one model with **regularization (Lasso or Ridge)** to reduce overfitting\n"
   ]
  },
  {
   "cell_type": "markdown",
   "metadata": {},
   "source": [
    "**Target variable/target (Y) that we will try to predict, to separate from the others** : *Weekly_Sales*\n",
    "\n",
    " **------------**\n",
    "\n",
    " #### Preprocessings to be planned with scikit-learn\n",
    "\n",
    " **Explanatory variables (X)**\n",
    "We need to identify which columns contain categorical variables and which columns contain numerical variables, as they will be treated differently.\n",
    "\n",
    " - Categorical variables : Store, Holiday_Flag\n",
    " - Numerical variables : Temperature, Fuel_Price, CPI, Unemployment, Year, Month, Day, DayOfWeek\n",
    "\n",
    "### Part 2 : Baseline model (linear regression)\n",
    "Once you've trained a first model, don't forget to assess its performances on the train and test sets. Are you satisfied with the results ?\n",
    "Besides, it would be interesting to analyze the values of the model's coefficients to know what features are important for the prediction. To do so, the `.coef_` attribute of scikit-learn's LinearRegression class might be useful. Please refer to the following link for more information 😉 https://scikit-learn.org/stable/modules/generated/sklearn.linear_model.LinearRegression.html\n",
    "\n",
    "### Part 3 : Fight overfitting\n",
    "In this last part, you'll have to train a **regularized linear regression model**. You'll find below some useful classes in scikit-learn's documentation :\n",
    "- https://scikit-learn.org/stable/modules/generated/sklearn.linear_model.Ridge.html#sklearn.linear_model.Ridge\n",
    "- https://scikit-learn.org/stable/modules/generated/sklearn.linear_model.Lasso.html#sklearn.linear_model.Lasso\n",
    "\n",
    "**Bonus question**\n",
    "\n",
    "In regularized regression models, there's a hyperparameter called *the regularization strength* that can be fine-tuned to get the best generalized predictions on a given dataset. This fine-tuning can be done thanks to scikit-learn's GridSearchCV class : https://scikit-learn.org/stable/modules/generated/sklearn.model_selection.GridSearchCV.html\n",
    "\n",
    "Also, you'll find here some examples of how to use GridSearchCV together with Ridge or Lasso models : https://alfurka.github.io/2018-11-18-grid-search/"
   ]
  },
  {
   "cell_type": "markdown",
   "metadata": {},
   "source": [
    "---"
   ]
  },
  {
   "cell_type": "code",
   "execution_count": null,
   "metadata": {},
   "outputs": [],
   "source": [
    "import numpy as np\n",
    "import pandas as pd\n",
    "import matplotlib.pyplot as plt\n",
    "import seaborn as sns\n",
    "import plotly.express as px\n",
    "\n",
    "from sklearn.model_selection import train_test_split, GridSearchCV\n",
    "from sklearn.pipeline import Pipeline\n",
    "from sklearn.impute import SimpleImputer, KNNImputer\n",
    "from sklearn.preprocessing import  OneHotEncoder, StandardScaler\n",
    "from sklearn.compose import ColumnTransformer\n",
    "from sklearn.linear_model import LinearRegression, Ridge, Lasso\n",
    "from sklearn.metrics import r2_score\n",
    "from sklearn.model_selection import cross_val_score"
   ]
  },
  {
   "cell_type": "code",
   "execution_count": 1360,
   "metadata": {},
   "outputs": [
    {
     "data": {
      "text/html": [
       "<div>\n",
       "<style scoped>\n",
       "    .dataframe tbody tr th:only-of-type {\n",
       "        vertical-align: middle;\n",
       "    }\n",
       "\n",
       "    .dataframe tbody tr th {\n",
       "        vertical-align: top;\n",
       "    }\n",
       "\n",
       "    .dataframe thead th {\n",
       "        text-align: right;\n",
       "    }\n",
       "</style>\n",
       "<table border=\"1\" class=\"dataframe\">\n",
       "  <thead>\n",
       "    <tr style=\"text-align: right;\">\n",
       "      <th></th>\n",
       "      <th>Store</th>\n",
       "      <th>Date</th>\n",
       "      <th>Weekly_Sales</th>\n",
       "      <th>Holiday_Flag</th>\n",
       "      <th>Temperature</th>\n",
       "      <th>Fuel_Price</th>\n",
       "      <th>CPI</th>\n",
       "      <th>Unemployment</th>\n",
       "    </tr>\n",
       "  </thead>\n",
       "  <tbody>\n",
       "    <tr>\n",
       "      <th>0</th>\n",
       "      <td>6.0</td>\n",
       "      <td>18-02-2011</td>\n",
       "      <td>1572117.54</td>\n",
       "      <td>NaN</td>\n",
       "      <td>59.61</td>\n",
       "      <td>3.045</td>\n",
       "      <td>214.777523</td>\n",
       "      <td>6.858</td>\n",
       "    </tr>\n",
       "    <tr>\n",
       "      <th>1</th>\n",
       "      <td>13.0</td>\n",
       "      <td>25-03-2011</td>\n",
       "      <td>1807545.43</td>\n",
       "      <td>0.0</td>\n",
       "      <td>42.38</td>\n",
       "      <td>3.435</td>\n",
       "      <td>128.616064</td>\n",
       "      <td>7.470</td>\n",
       "    </tr>\n",
       "    <tr>\n",
       "      <th>2</th>\n",
       "      <td>17.0</td>\n",
       "      <td>27-07-2012</td>\n",
       "      <td>NaN</td>\n",
       "      <td>0.0</td>\n",
       "      <td>NaN</td>\n",
       "      <td>NaN</td>\n",
       "      <td>130.719581</td>\n",
       "      <td>5.936</td>\n",
       "    </tr>\n",
       "    <tr>\n",
       "      <th>3</th>\n",
       "      <td>11.0</td>\n",
       "      <td>NaN</td>\n",
       "      <td>1244390.03</td>\n",
       "      <td>0.0</td>\n",
       "      <td>84.57</td>\n",
       "      <td>NaN</td>\n",
       "      <td>214.556497</td>\n",
       "      <td>7.346</td>\n",
       "    </tr>\n",
       "    <tr>\n",
       "      <th>4</th>\n",
       "      <td>6.0</td>\n",
       "      <td>28-05-2010</td>\n",
       "      <td>1644470.66</td>\n",
       "      <td>0.0</td>\n",
       "      <td>78.89</td>\n",
       "      <td>2.759</td>\n",
       "      <td>212.412888</td>\n",
       "      <td>7.092</td>\n",
       "    </tr>\n",
       "    <tr>\n",
       "      <th>...</th>\n",
       "      <td>...</td>\n",
       "      <td>...</td>\n",
       "      <td>...</td>\n",
       "      <td>...</td>\n",
       "      <td>...</td>\n",
       "      <td>...</td>\n",
       "      <td>...</td>\n",
       "      <td>...</td>\n",
       "    </tr>\n",
       "    <tr>\n",
       "      <th>145</th>\n",
       "      <td>14.0</td>\n",
       "      <td>18-06-2010</td>\n",
       "      <td>2248645.59</td>\n",
       "      <td>0.0</td>\n",
       "      <td>72.62</td>\n",
       "      <td>2.780</td>\n",
       "      <td>182.442420</td>\n",
       "      <td>8.899</td>\n",
       "    </tr>\n",
       "    <tr>\n",
       "      <th>146</th>\n",
       "      <td>7.0</td>\n",
       "      <td>NaN</td>\n",
       "      <td>716388.81</td>\n",
       "      <td>NaN</td>\n",
       "      <td>20.74</td>\n",
       "      <td>2.778</td>\n",
       "      <td>NaN</td>\n",
       "      <td>NaN</td>\n",
       "    </tr>\n",
       "    <tr>\n",
       "      <th>147</th>\n",
       "      <td>17.0</td>\n",
       "      <td>11-06-2010</td>\n",
       "      <td>845252.21</td>\n",
       "      <td>0.0</td>\n",
       "      <td>57.14</td>\n",
       "      <td>2.841</td>\n",
       "      <td>126.111903</td>\n",
       "      <td>NaN</td>\n",
       "    </tr>\n",
       "    <tr>\n",
       "      <th>148</th>\n",
       "      <td>8.0</td>\n",
       "      <td>12-08-2011</td>\n",
       "      <td>856796.10</td>\n",
       "      <td>0.0</td>\n",
       "      <td>86.05</td>\n",
       "      <td>3.638</td>\n",
       "      <td>219.007525</td>\n",
       "      <td>NaN</td>\n",
       "    </tr>\n",
       "    <tr>\n",
       "      <th>149</th>\n",
       "      <td>19.0</td>\n",
       "      <td>20-04-2012</td>\n",
       "      <td>1255087.26</td>\n",
       "      <td>0.0</td>\n",
       "      <td>55.20</td>\n",
       "      <td>4.170</td>\n",
       "      <td>137.923067</td>\n",
       "      <td>8.150</td>\n",
       "    </tr>\n",
       "  </tbody>\n",
       "</table>\n",
       "<p>150 rows × 8 columns</p>\n",
       "</div>"
      ],
      "text/plain": [
       "     Store        Date  Weekly_Sales  Holiday_Flag  Temperature  Fuel_Price  \\\n",
       "0      6.0  18-02-2011    1572117.54           NaN        59.61       3.045   \n",
       "1     13.0  25-03-2011    1807545.43           0.0        42.38       3.435   \n",
       "2     17.0  27-07-2012           NaN           0.0          NaN         NaN   \n",
       "3     11.0         NaN    1244390.03           0.0        84.57         NaN   \n",
       "4      6.0  28-05-2010    1644470.66           0.0        78.89       2.759   \n",
       "..     ...         ...           ...           ...          ...         ...   \n",
       "145   14.0  18-06-2010    2248645.59           0.0        72.62       2.780   \n",
       "146    7.0         NaN     716388.81           NaN        20.74       2.778   \n",
       "147   17.0  11-06-2010     845252.21           0.0        57.14       2.841   \n",
       "148    8.0  12-08-2011     856796.10           0.0        86.05       3.638   \n",
       "149   19.0  20-04-2012    1255087.26           0.0        55.20       4.170   \n",
       "\n",
       "            CPI  Unemployment  \n",
       "0    214.777523         6.858  \n",
       "1    128.616064         7.470  \n",
       "2    130.719581         5.936  \n",
       "3    214.556497         7.346  \n",
       "4    212.412888         7.092  \n",
       "..          ...           ...  \n",
       "145  182.442420         8.899  \n",
       "146         NaN           NaN  \n",
       "147  126.111903           NaN  \n",
       "148  219.007525           NaN  \n",
       "149  137.923067         8.150  \n",
       "\n",
       "[150 rows x 8 columns]"
      ]
     },
     "execution_count": 1360,
     "metadata": {},
     "output_type": "execute_result"
    }
   ],
   "source": [
    "df = pd.read_csv(r\"C:\\Users\\swell\\OneDrive\\Bureau\\Data_Science_Fullstack\\fullstack-data-certification\\BLOC_3_ML\\walmart\\Walmart_Store_sales.csv\")\n",
    "df"
   ]
  },
  {
   "cell_type": "code",
   "execution_count": 1361,
   "metadata": {},
   "outputs": [
    {
     "data": {
      "text/html": [
       "<div>\n",
       "<style scoped>\n",
       "    .dataframe tbody tr th:only-of-type {\n",
       "        vertical-align: middle;\n",
       "    }\n",
       "\n",
       "    .dataframe tbody tr th {\n",
       "        vertical-align: top;\n",
       "    }\n",
       "\n",
       "    .dataframe thead th {\n",
       "        text-align: right;\n",
       "    }\n",
       "</style>\n",
       "<table border=\"1\" class=\"dataframe\">\n",
       "  <thead>\n",
       "    <tr style=\"text-align: right;\">\n",
       "      <th></th>\n",
       "      <th>Store</th>\n",
       "      <th>Date</th>\n",
       "      <th>Weekly_Sales</th>\n",
       "      <th>Holiday_Flag</th>\n",
       "      <th>Temperature</th>\n",
       "      <th>Fuel_Price</th>\n",
       "      <th>CPI</th>\n",
       "      <th>Unemployment</th>\n",
       "    </tr>\n",
       "  </thead>\n",
       "  <tbody>\n",
       "    <tr>\n",
       "      <th>count</th>\n",
       "      <td>150.000000</td>\n",
       "      <td>132</td>\n",
       "      <td>1.360000e+02</td>\n",
       "      <td>138.000000</td>\n",
       "      <td>132.000000</td>\n",
       "      <td>136.000000</td>\n",
       "      <td>138.000000</td>\n",
       "      <td>135.000000</td>\n",
       "    </tr>\n",
       "    <tr>\n",
       "      <th>unique</th>\n",
       "      <td>NaN</td>\n",
       "      <td>85</td>\n",
       "      <td>NaN</td>\n",
       "      <td>NaN</td>\n",
       "      <td>NaN</td>\n",
       "      <td>NaN</td>\n",
       "      <td>NaN</td>\n",
       "      <td>NaN</td>\n",
       "    </tr>\n",
       "    <tr>\n",
       "      <th>top</th>\n",
       "      <td>NaN</td>\n",
       "      <td>19-10-2012</td>\n",
       "      <td>NaN</td>\n",
       "      <td>NaN</td>\n",
       "      <td>NaN</td>\n",
       "      <td>NaN</td>\n",
       "      <td>NaN</td>\n",
       "      <td>NaN</td>\n",
       "    </tr>\n",
       "    <tr>\n",
       "      <th>freq</th>\n",
       "      <td>NaN</td>\n",
       "      <td>4</td>\n",
       "      <td>NaN</td>\n",
       "      <td>NaN</td>\n",
       "      <td>NaN</td>\n",
       "      <td>NaN</td>\n",
       "      <td>NaN</td>\n",
       "      <td>NaN</td>\n",
       "    </tr>\n",
       "    <tr>\n",
       "      <th>mean</th>\n",
       "      <td>9.866667</td>\n",
       "      <td>NaN</td>\n",
       "      <td>1.249536e+06</td>\n",
       "      <td>0.079710</td>\n",
       "      <td>61.398106</td>\n",
       "      <td>3.320853</td>\n",
       "      <td>179.898509</td>\n",
       "      <td>7.598430</td>\n",
       "    </tr>\n",
       "    <tr>\n",
       "      <th>std</th>\n",
       "      <td>6.231191</td>\n",
       "      <td>NaN</td>\n",
       "      <td>6.474630e+05</td>\n",
       "      <td>0.271831</td>\n",
       "      <td>18.378901</td>\n",
       "      <td>0.478149</td>\n",
       "      <td>40.274956</td>\n",
       "      <td>1.577173</td>\n",
       "    </tr>\n",
       "    <tr>\n",
       "      <th>min</th>\n",
       "      <td>1.000000</td>\n",
       "      <td>NaN</td>\n",
       "      <td>2.689290e+05</td>\n",
       "      <td>0.000000</td>\n",
       "      <td>18.790000</td>\n",
       "      <td>2.514000</td>\n",
       "      <td>126.111903</td>\n",
       "      <td>5.143000</td>\n",
       "    </tr>\n",
       "    <tr>\n",
       "      <th>25%</th>\n",
       "      <td>4.000000</td>\n",
       "      <td>NaN</td>\n",
       "      <td>6.050757e+05</td>\n",
       "      <td>0.000000</td>\n",
       "      <td>45.587500</td>\n",
       "      <td>2.852250</td>\n",
       "      <td>131.970831</td>\n",
       "      <td>6.597500</td>\n",
       "    </tr>\n",
       "    <tr>\n",
       "      <th>50%</th>\n",
       "      <td>9.000000</td>\n",
       "      <td>NaN</td>\n",
       "      <td>1.261424e+06</td>\n",
       "      <td>0.000000</td>\n",
       "      <td>62.985000</td>\n",
       "      <td>3.451000</td>\n",
       "      <td>197.908893</td>\n",
       "      <td>7.470000</td>\n",
       "    </tr>\n",
       "    <tr>\n",
       "      <th>75%</th>\n",
       "      <td>15.750000</td>\n",
       "      <td>NaN</td>\n",
       "      <td>1.806386e+06</td>\n",
       "      <td>0.000000</td>\n",
       "      <td>76.345000</td>\n",
       "      <td>3.706250</td>\n",
       "      <td>214.934616</td>\n",
       "      <td>8.150000</td>\n",
       "    </tr>\n",
       "    <tr>\n",
       "      <th>max</th>\n",
       "      <td>20.000000</td>\n",
       "      <td>NaN</td>\n",
       "      <td>2.771397e+06</td>\n",
       "      <td>1.000000</td>\n",
       "      <td>91.650000</td>\n",
       "      <td>4.193000</td>\n",
       "      <td>226.968844</td>\n",
       "      <td>14.313000</td>\n",
       "    </tr>\n",
       "  </tbody>\n",
       "</table>\n",
       "</div>"
      ],
      "text/plain": [
       "             Store        Date  Weekly_Sales  Holiday_Flag  Temperature  \\\n",
       "count   150.000000         132  1.360000e+02    138.000000   132.000000   \n",
       "unique         NaN          85           NaN           NaN          NaN   \n",
       "top            NaN  19-10-2012           NaN           NaN          NaN   \n",
       "freq           NaN           4           NaN           NaN          NaN   \n",
       "mean      9.866667         NaN  1.249536e+06      0.079710    61.398106   \n",
       "std       6.231191         NaN  6.474630e+05      0.271831    18.378901   \n",
       "min       1.000000         NaN  2.689290e+05      0.000000    18.790000   \n",
       "25%       4.000000         NaN  6.050757e+05      0.000000    45.587500   \n",
       "50%       9.000000         NaN  1.261424e+06      0.000000    62.985000   \n",
       "75%      15.750000         NaN  1.806386e+06      0.000000    76.345000   \n",
       "max      20.000000         NaN  2.771397e+06      1.000000    91.650000   \n",
       "\n",
       "        Fuel_Price         CPI  Unemployment  \n",
       "count   136.000000  138.000000    135.000000  \n",
       "unique         NaN         NaN           NaN  \n",
       "top            NaN         NaN           NaN  \n",
       "freq           NaN         NaN           NaN  \n",
       "mean      3.320853  179.898509      7.598430  \n",
       "std       0.478149   40.274956      1.577173  \n",
       "min       2.514000  126.111903      5.143000  \n",
       "25%       2.852250  131.970831      6.597500  \n",
       "50%       3.451000  197.908893      7.470000  \n",
       "75%       3.706250  214.934616      8.150000  \n",
       "max       4.193000  226.968844     14.313000  "
      ]
     },
     "execution_count": 1361,
     "metadata": {},
     "output_type": "execute_result"
    }
   ],
   "source": [
    "df.describe(include=\"all\")"
   ]
  },
  {
   "cell_type": "markdown",
   "metadata": {},
   "source": [
    "## Part 1 : EDA & Data Preprocessing\n",
    "---\n"
   ]
  },
  {
   "cell_type": "markdown",
   "metadata": {},
   "source": [
    "Data cleaning and processing :"
   ]
  },
  {
   "cell_type": "code",
   "execution_count": 1362,
   "metadata": {},
   "outputs": [],
   "source": [
    "df['year'] = pd.DatetimeIndex(df['Date'], dayfirst=True).year\n",
    "df['month'] = pd.DatetimeIndex(df['Date'], dayfirst=True).month\n",
    "df['day'] = pd.DatetimeIndex(df['Date'], dayfirst=True).day\n",
    "df['day_of_week'] = pd.DatetimeIndex(df['Date'], dayfirst=True).dayofweek\n",
    "\n",
    "df = df.sort_values(by ='Date').reset_index(drop=True)\n",
    "df['Temperature'] = round((df['Temperature'] -32)*5/9,2)"
   ]
  },
  {
   "cell_type": "code",
   "execution_count": 1363,
   "metadata": {},
   "outputs": [
    {
     "data": {
      "text/html": [
       "<div>\n",
       "<style scoped>\n",
       "    .dataframe tbody tr th:only-of-type {\n",
       "        vertical-align: middle;\n",
       "    }\n",
       "\n",
       "    .dataframe tbody tr th {\n",
       "        vertical-align: top;\n",
       "    }\n",
       "\n",
       "    .dataframe thead th {\n",
       "        text-align: right;\n",
       "    }\n",
       "</style>\n",
       "<table border=\"1\" class=\"dataframe\">\n",
       "  <thead>\n",
       "    <tr style=\"text-align: right;\">\n",
       "      <th></th>\n",
       "      <th>Store</th>\n",
       "      <th>Date</th>\n",
       "      <th>Weekly_Sales</th>\n",
       "      <th>Holiday_Flag</th>\n",
       "      <th>Temperature</th>\n",
       "      <th>Fuel_Price</th>\n",
       "      <th>CPI</th>\n",
       "      <th>Unemployment</th>\n",
       "      <th>year</th>\n",
       "      <th>month</th>\n",
       "      <th>day</th>\n",
       "      <th>day_of_week</th>\n",
       "    </tr>\n",
       "  </thead>\n",
       "  <tbody>\n",
       "    <tr>\n",
       "      <th>0</th>\n",
       "      <td>13.0</td>\n",
       "      <td>01-06-2012</td>\n",
       "      <td>2035431.39</td>\n",
       "      <td>0.0</td>\n",
       "      <td>16.17</td>\n",
       "      <td>3.788</td>\n",
       "      <td>130.959226</td>\n",
       "      <td>5.965</td>\n",
       "      <td>2012.0</td>\n",
       "      <td>6.0</td>\n",
       "      <td>1.0</td>\n",
       "      <td>4.0</td>\n",
       "    </tr>\n",
       "    <tr>\n",
       "      <th>1</th>\n",
       "      <td>17.0</td>\n",
       "      <td>01-10-2010</td>\n",
       "      <td>829207.27</td>\n",
       "      <td>0.0</td>\n",
       "      <td>15.59</td>\n",
       "      <td>2.853</td>\n",
       "      <td>126.234600</td>\n",
       "      <td>6.885</td>\n",
       "      <td>2010.0</td>\n",
       "      <td>10.0</td>\n",
       "      <td>1.0</td>\n",
       "      <td>4.0</td>\n",
       "    </tr>\n",
       "    <tr>\n",
       "      <th>2</th>\n",
       "      <td>10.0</td>\n",
       "      <td>02-03-2012</td>\n",
       "      <td>1990371.02</td>\n",
       "      <td>0.0</td>\n",
       "      <td>14.23</td>\n",
       "      <td>3.882</td>\n",
       "      <td>130.645793</td>\n",
       "      <td>7.545</td>\n",
       "      <td>2012.0</td>\n",
       "      <td>3.0</td>\n",
       "      <td>2.0</td>\n",
       "      <td>4.0</td>\n",
       "    </tr>\n",
       "    <tr>\n",
       "      <th>3</th>\n",
       "      <td>7.0</td>\n",
       "      <td>02-04-2010</td>\n",
       "      <td>561145.14</td>\n",
       "      <td>0.0</td>\n",
       "      <td>3.48</td>\n",
       "      <td>2.725</td>\n",
       "      <td>189.704822</td>\n",
       "      <td>8.963</td>\n",
       "      <td>2010.0</td>\n",
       "      <td>4.0</td>\n",
       "      <td>2.0</td>\n",
       "      <td>4.0</td>\n",
       "    </tr>\n",
       "    <tr>\n",
       "      <th>4</th>\n",
       "      <td>19.0</td>\n",
       "      <td>02-07-2010</td>\n",
       "      <td>1549018.68</td>\n",
       "      <td>0.0</td>\n",
       "      <td>19.03</td>\n",
       "      <td>2.958</td>\n",
       "      <td>132.521867</td>\n",
       "      <td>8.099</td>\n",
       "      <td>2010.0</td>\n",
       "      <td>7.0</td>\n",
       "      <td>2.0</td>\n",
       "      <td>4.0</td>\n",
       "    </tr>\n",
       "  </tbody>\n",
       "</table>\n",
       "</div>"
      ],
      "text/plain": [
       "   Store        Date  Weekly_Sales  Holiday_Flag  Temperature  Fuel_Price  \\\n",
       "0   13.0  01-06-2012    2035431.39           0.0        16.17       3.788   \n",
       "1   17.0  01-10-2010     829207.27           0.0        15.59       2.853   \n",
       "2   10.0  02-03-2012    1990371.02           0.0        14.23       3.882   \n",
       "3    7.0  02-04-2010     561145.14           0.0         3.48       2.725   \n",
       "4   19.0  02-07-2010    1549018.68           0.0        19.03       2.958   \n",
       "\n",
       "          CPI  Unemployment    year  month  day  day_of_week  \n",
       "0  130.959226         5.965  2012.0    6.0  1.0          4.0  \n",
       "1  126.234600         6.885  2010.0   10.0  1.0          4.0  \n",
       "2  130.645793         7.545  2012.0    3.0  2.0          4.0  \n",
       "3  189.704822         8.963  2010.0    4.0  2.0          4.0  \n",
       "4  132.521867         8.099  2010.0    7.0  2.0          4.0  "
      ]
     },
     "execution_count": 1363,
     "metadata": {},
     "output_type": "execute_result"
    }
   ],
   "source": [
    "df.head()"
   ]
  },
  {
   "cell_type": "code",
   "execution_count": 1364,
   "metadata": {},
   "outputs": [
    {
     "name": "stdout",
     "output_type": "stream",
     "text": [
      "(150, 12)\n"
     ]
    }
   ],
   "source": [
    "print(df.shape)"
   ]
  },
  {
   "cell_type": "code",
   "execution_count": 1365,
   "metadata": {},
   "outputs": [],
   "source": [
    "# Dropping outliers : defined as 3 times above or below standard deviation in this project, for the following columns.\n",
    "df['Temperature']=df['Temperature'].apply(lambda x: np.nan if (np.abs(x - df['Temperature'].mean()) / df['Temperature'].std() > 3) else x)\n",
    "df['Fuel_Price']=df['Fuel_Price'].apply(lambda x: np.nan if (np.abs(x - df['Fuel_Price'].mean()) / df['Fuel_Price'].std() > 3) else x)\n",
    "df['CPI']=df['CPI'].apply(lambda x: np.nan if (np.abs(x - df['CPI'].mean()) / df['CPI'].std() > 3) else x)\n",
    "df['Unemployment']=df['Unemployment'].apply(lambda x: np.nan if (np.abs(x - df['Unemployment'].mean()) / df['Unemployment'].std() > 3) else x)"
   ]
  },
  {
   "cell_type": "code",
   "execution_count": 1366,
   "metadata": {},
   "outputs": [
    {
     "name": "stdout",
     "output_type": "stream",
     "text": [
      "(148, 12)\n"
     ]
    }
   ],
   "source": [
    "# dropping row if more than 2 features are missing in the same row\n",
    "df = df.dropna(thresh=6)\n",
    "\n",
    "print(df.shape)"
   ]
  },
  {
   "cell_type": "code",
   "execution_count": 1367,
   "metadata": {},
   "outputs": [
    {
     "data": {
      "text/plain": [
       "(148, 12)"
      ]
     },
     "execution_count": 1367,
     "metadata": {},
     "output_type": "execute_result"
    }
   ],
   "source": [
    "df.shape"
   ]
  },
  {
   "cell_type": "code",
   "execution_count": 1368,
   "metadata": {},
   "outputs": [],
   "source": [
    "df = df.dropna(subset=[\"Date\", \"Weekly_Sales\"])"
   ]
  },
  {
   "cell_type": "code",
   "execution_count": 1369,
   "metadata": {},
   "outputs": [
    {
     "name": "stdout",
     "output_type": "stream",
     "text": [
      "Store            0\n",
      "Date             0\n",
      "Weekly_Sales     0\n",
      "Holiday_Flag     0\n",
      "year             0\n",
      "month            0\n",
      "day              0\n",
      "day_of_week      0\n",
      "CPI              9\n",
      "Temperature     11\n",
      "Fuel_Price      11\n",
      "Unemployment    16\n",
      "dtype: int64\n"
     ]
    }
   ],
   "source": [
    "#replace nan values in holiday column with 0\n",
    "df['Holiday_Flag'] = df['Holiday_Flag'].fillna(0)\n",
    "df['Holiday_Flag'] = df['Holiday_Flag'].map({1:'Yes',0:'No'})\n",
    "\n",
    "\n",
    "print(df.isna().sum().sort_values())"
   ]
  },
  {
   "cell_type": "code",
   "execution_count": 1370,
   "metadata": {},
   "outputs": [],
   "source": [
    "#make columns store, year, month, day, day_of_week of type integer\n",
    "df['Store'] = df['Store'].astype(int)\n",
    "df['year'] = df['year'].astype(int)\n",
    "df['month'] = df['month'].astype(int)\n",
    "df['day'] = df['day'].astype(int)\n",
    "df['day_of_week'] = df['day_of_week'].astype(int)"
   ]
  },
  {
   "cell_type": "code",
   "execution_count": 1371,
   "metadata": {},
   "outputs": [
    {
     "data": {
      "text/html": [
       "<div>\n",
       "<style scoped>\n",
       "    .dataframe tbody tr th:only-of-type {\n",
       "        vertical-align: middle;\n",
       "    }\n",
       "\n",
       "    .dataframe tbody tr th {\n",
       "        vertical-align: top;\n",
       "    }\n",
       "\n",
       "    .dataframe thead th {\n",
       "        text-align: right;\n",
       "    }\n",
       "</style>\n",
       "<table border=\"1\" class=\"dataframe\">\n",
       "  <thead>\n",
       "    <tr style=\"text-align: right;\">\n",
       "      <th></th>\n",
       "      <th>Store</th>\n",
       "      <th>Date</th>\n",
       "      <th>Weekly_Sales</th>\n",
       "      <th>Holiday_Flag</th>\n",
       "      <th>Temperature</th>\n",
       "      <th>Fuel_Price</th>\n",
       "      <th>CPI</th>\n",
       "      <th>Unemployment</th>\n",
       "      <th>year</th>\n",
       "      <th>month</th>\n",
       "      <th>day</th>\n",
       "      <th>day_of_week</th>\n",
       "    </tr>\n",
       "  </thead>\n",
       "  <tbody>\n",
       "    <tr>\n",
       "      <th>0</th>\n",
       "      <td>13</td>\n",
       "      <td>01-06-2012</td>\n",
       "      <td>2035431.39</td>\n",
       "      <td>No</td>\n",
       "      <td>16.17</td>\n",
       "      <td>3.788</td>\n",
       "      <td>130.959226</td>\n",
       "      <td>5.965</td>\n",
       "      <td>2012</td>\n",
       "      <td>6</td>\n",
       "      <td>1</td>\n",
       "      <td>4</td>\n",
       "    </tr>\n",
       "    <tr>\n",
       "      <th>1</th>\n",
       "      <td>17</td>\n",
       "      <td>01-10-2010</td>\n",
       "      <td>829207.27</td>\n",
       "      <td>No</td>\n",
       "      <td>15.59</td>\n",
       "      <td>2.853</td>\n",
       "      <td>126.234600</td>\n",
       "      <td>6.885</td>\n",
       "      <td>2010</td>\n",
       "      <td>10</td>\n",
       "      <td>1</td>\n",
       "      <td>4</td>\n",
       "    </tr>\n",
       "    <tr>\n",
       "      <th>2</th>\n",
       "      <td>10</td>\n",
       "      <td>02-03-2012</td>\n",
       "      <td>1990371.02</td>\n",
       "      <td>No</td>\n",
       "      <td>14.23</td>\n",
       "      <td>3.882</td>\n",
       "      <td>130.645793</td>\n",
       "      <td>7.545</td>\n",
       "      <td>2012</td>\n",
       "      <td>3</td>\n",
       "      <td>2</td>\n",
       "      <td>4</td>\n",
       "    </tr>\n",
       "    <tr>\n",
       "      <th>3</th>\n",
       "      <td>7</td>\n",
       "      <td>02-04-2010</td>\n",
       "      <td>561145.14</td>\n",
       "      <td>No</td>\n",
       "      <td>3.48</td>\n",
       "      <td>2.725</td>\n",
       "      <td>189.704822</td>\n",
       "      <td>8.963</td>\n",
       "      <td>2010</td>\n",
       "      <td>4</td>\n",
       "      <td>2</td>\n",
       "      <td>4</td>\n",
       "    </tr>\n",
       "    <tr>\n",
       "      <th>4</th>\n",
       "      <td>19</td>\n",
       "      <td>02-07-2010</td>\n",
       "      <td>1549018.68</td>\n",
       "      <td>No</td>\n",
       "      <td>19.03</td>\n",
       "      <td>2.958</td>\n",
       "      <td>132.521867</td>\n",
       "      <td>8.099</td>\n",
       "      <td>2010</td>\n",
       "      <td>7</td>\n",
       "      <td>2</td>\n",
       "      <td>4</td>\n",
       "    </tr>\n",
       "    <tr>\n",
       "      <th>...</th>\n",
       "      <td>...</td>\n",
       "      <td>...</td>\n",
       "      <td>...</td>\n",
       "      <td>...</td>\n",
       "      <td>...</td>\n",
       "      <td>...</td>\n",
       "      <td>...</td>\n",
       "      <td>...</td>\n",
       "      <td>...</td>\n",
       "      <td>...</td>\n",
       "      <td>...</td>\n",
       "      <td>...</td>\n",
       "    </tr>\n",
       "    <tr>\n",
       "      <th>126</th>\n",
       "      <td>5</td>\n",
       "      <td>30-04-2010</td>\n",
       "      <td>298697.84</td>\n",
       "      <td>No</td>\n",
       "      <td>19.74</td>\n",
       "      <td>NaN</td>\n",
       "      <td>210.939388</td>\n",
       "      <td>NaN</td>\n",
       "      <td>2010</td>\n",
       "      <td>4</td>\n",
       "      <td>30</td>\n",
       "      <td>4</td>\n",
       "    </tr>\n",
       "    <tr>\n",
       "      <th>127</th>\n",
       "      <td>6</td>\n",
       "      <td>30-07-2010</td>\n",
       "      <td>1532308.78</td>\n",
       "      <td>No</td>\n",
       "      <td>NaN</td>\n",
       "      <td>2.640</td>\n",
       "      <td>212.894485</td>\n",
       "      <td>6.973</td>\n",
       "      <td>2010</td>\n",
       "      <td>7</td>\n",
       "      <td>30</td>\n",
       "      <td>4</td>\n",
       "    </tr>\n",
       "    <tr>\n",
       "      <th>128</th>\n",
       "      <td>19</td>\n",
       "      <td>30-07-2010</td>\n",
       "      <td>1366395.96</td>\n",
       "      <td>No</td>\n",
       "      <td>22.68</td>\n",
       "      <td>2.932</td>\n",
       "      <td>132.598387</td>\n",
       "      <td>8.099</td>\n",
       "      <td>2010</td>\n",
       "      <td>7</td>\n",
       "      <td>30</td>\n",
       "      <td>4</td>\n",
       "    </tr>\n",
       "    <tr>\n",
       "      <th>129</th>\n",
       "      <td>5</td>\n",
       "      <td>30-07-2010</td>\n",
       "      <td>268929.03</td>\n",
       "      <td>No</td>\n",
       "      <td>28.03</td>\n",
       "      <td>2.640</td>\n",
       "      <td>211.927001</td>\n",
       "      <td>6.496</td>\n",
       "      <td>2010</td>\n",
       "      <td>7</td>\n",
       "      <td>30</td>\n",
       "      <td>4</td>\n",
       "    </tr>\n",
       "    <tr>\n",
       "      <th>131</th>\n",
       "      <td>20</td>\n",
       "      <td>31-12-2010</td>\n",
       "      <td>1799737.79</td>\n",
       "      <td>Yes</td>\n",
       "      <td>-1.75</td>\n",
       "      <td>3.179</td>\n",
       "      <td>204.643227</td>\n",
       "      <td>7.484</td>\n",
       "      <td>2010</td>\n",
       "      <td>12</td>\n",
       "      <td>31</td>\n",
       "      <td>4</td>\n",
       "    </tr>\n",
       "  </tbody>\n",
       "</table>\n",
       "<p>118 rows × 12 columns</p>\n",
       "</div>"
      ],
      "text/plain": [
       "     Store        Date  Weekly_Sales Holiday_Flag  Temperature  Fuel_Price  \\\n",
       "0       13  01-06-2012    2035431.39           No        16.17       3.788   \n",
       "1       17  01-10-2010     829207.27           No        15.59       2.853   \n",
       "2       10  02-03-2012    1990371.02           No        14.23       3.882   \n",
       "3        7  02-04-2010     561145.14           No         3.48       2.725   \n",
       "4       19  02-07-2010    1549018.68           No        19.03       2.958   \n",
       "..     ...         ...           ...          ...          ...         ...   \n",
       "126      5  30-04-2010     298697.84           No        19.74         NaN   \n",
       "127      6  30-07-2010    1532308.78           No          NaN       2.640   \n",
       "128     19  30-07-2010    1366395.96           No        22.68       2.932   \n",
       "129      5  30-07-2010     268929.03           No        28.03       2.640   \n",
       "131     20  31-12-2010    1799737.79          Yes        -1.75       3.179   \n",
       "\n",
       "            CPI  Unemployment  year  month  day  day_of_week  \n",
       "0    130.959226         5.965  2012      6    1            4  \n",
       "1    126.234600         6.885  2010     10    1            4  \n",
       "2    130.645793         7.545  2012      3    2            4  \n",
       "3    189.704822         8.963  2010      4    2            4  \n",
       "4    132.521867         8.099  2010      7    2            4  \n",
       "..          ...           ...   ...    ...  ...          ...  \n",
       "126  210.939388           NaN  2010      4   30            4  \n",
       "127  212.894485         6.973  2010      7   30            4  \n",
       "128  132.598387         8.099  2010      7   30            4  \n",
       "129  211.927001         6.496  2010      7   30            4  \n",
       "131  204.643227         7.484  2010     12   31            4  \n",
       "\n",
       "[118 rows x 12 columns]"
      ]
     },
     "execution_count": 1371,
     "metadata": {},
     "output_type": "execute_result"
    }
   ],
   "source": [
    "df"
   ]
  },
  {
   "cell_type": "code",
   "execution_count": 1372,
   "metadata": {},
   "outputs": [
    {
     "data": {
      "image/png": "[encoded data removed]",
      "text/plain": [
       "<Figure size 1000x500 with 1 Axes>"
      ]
     },
     "metadata": {},
     "output_type": "display_data"
    }
   ],
   "source": [
    "# bar plot of the stores weekly sales\n",
    "sns.set_style('darkgrid')\n",
    "plt.figure(figsize = (10, 5))\n",
    "g = sns.barplot(data = df, x = 'Store', y = 'Weekly_Sales')\n",
    "g.set_title(\"Bar plot of stores weekly sales\")\n",
    "plt.show()"
   ]
  },
  {
   "cell_type": "code",
   "execution_count": 1373,
   "metadata": {},
   "outputs": [
    {
     "data": {
      "text/plain": [
       "<AxesSubplot: >"
      ]
     },
     "execution_count": 1373,
     "metadata": {},
     "output_type": "execute_result"
    },
    {
     "data": {
      "image/png": "[encoded data removed]",
      "text/plain": [
       "<Figure size 1000x800 with 2 Axes>"
      ]
     },
     "metadata": {},
     "output_type": "display_data"
    }
   ],
   "source": [
    "plt.figure(figsize=(10,8))\n",
    "df_corr=df.corr(numeric_only=True)\n",
    "sns.heatmap(abs(df_corr),annot=True, cmap='coolwarm')"
   ]
  },
  {
   "cell_type": "code",
   "execution_count": 1375,
   "metadata": {},
   "outputs": [],
   "source": [
    "store_sales = df.groupby(\"Store\")[\"Weekly_Sales\"].sum().reset_index(name=\"Total_Sales\").sort_values(by=\"Total_Sales\",ascending=False)\n"
   ]
  },
  {
   "cell_type": "code",
   "execution_count": 1376,
   "metadata": {},
   "outputs": [
    {
     "data": {
      "image/png": "[encoded data removed]",
      "text/plain": [
       "<Figure size 1000x600 with 1 Axes>"
      ]
     },
     "metadata": {},
     "output_type": "display_data"
    }
   ],
   "source": [
    "plt.figure(figsize=(10,6))\n",
    "sns.barplot(x=store_sales['Store'],y=store_sales['Total_Sales'],order=store_sales['Store'], palette='icefire')\n",
    "plt.show()"
   ]
  },
  {
   "cell_type": "code",
   "execution_count": 1377,
   "metadata": {},
   "outputs": [
    {
     "name": "stdout",
     "output_type": "stream",
     "text": [
      "Average total sales for one store is $7417899.73 out of 20 stores.\n",
      "50 % of the stores drive 78.23 % of all sales.\n"
     ]
    }
   ],
   "source": [
    "print(f\"Average total sales for one store is ${round(store_sales['Total_Sales'].mean(),2)} out of {len(store_sales)} stores.\")\n",
    "print(f\"50 % of the stores drive {round(store_sales.Total_Sales.iloc[:10].sum()/store_sales.Total_Sales.sum()*100,2)} % of all sales.\")"
   ]
  },
  {
   "cell_type": "code",
   "execution_count": 1378,
   "metadata": {},
   "outputs": [
    {
     "name": "stdout",
     "output_type": "stream",
     "text": [
      "Weekly sales around holidays are $ 1291931.47, which is above the average of $ 1257271.14, though the difference is well below standard deviation of $ 662505.57.\n"
     ]
    }
   ],
   "source": [
    "print(f\"Weekly sales around holidays are $ {round(df[df['Holiday_Flag'] == 'Yes']['Weekly_Sales'].mean(),2)}, which is above the average of \\\n",
    "$ {round(df['Weekly_Sales'].mean(),2)}, though the difference is well below standard deviation of $ {round(df['Weekly_Sales'].std(),2)}.\")"
   ]
  },
  {
   "cell_type": "markdown",
   "metadata": {},
   "source": [
    "After the data exploration, we can see that the average total sales for one store is $7417899 out of 45 stores. 50% of the stores drive 78.23% of all sales. Weekly sales around holidays are $1,291,932, which is above the average of $1257271, though the difference is well below standard deviation of $662505.\n",
    "\n",
    "The average temperature is 60.09 degrees Fahrenheit, with a standard deviation of 18.45 degrees Fahrenheit. The average fuel price is $3.36, with a standard deviation of $0.43. The average CPI is 171.20, with a standard deviation of 39.16. The average unemployment rate is 7.96%, with a standard deviation of 1.86%. The average year is 2010.97, with a standard deviation of 5.78. The average month is 6.50, with a standard deviation of 3.45. The average day is 15.73, with a standard deviation of 8.80. The average day of the week is 3.99, with a standard deviation of 1.99."
   ]
  },
  {
   "cell_type": "markdown",
   "metadata": {},
   "source": [
    "## Part 2 : Baseline Linear Regression Model \n",
    "---\n",
    "\n"
   ]
  },
  {
   "cell_type": "markdown",
   "metadata": {},
   "source": [
    "Let's start with a baseline model. We will use a linear regression model to predict the weekly sales. We will use the following features: Store, Temperature, Fuel_Price, CPI, Unemployment, Year, Month, Day, DayOfWeek, Holiday_Flag. We will also use the R-squared metric to evaluate the model."
   ]
  },
  {
   "cell_type": "code",
   "execution_count": 1379,
   "metadata": {},
   "outputs": [
    {
     "data": {
      "text/html": [
       "<div>\n",
       "<style scoped>\n",
       "    .dataframe tbody tr th:only-of-type {\n",
       "        vertical-align: middle;\n",
       "    }\n",
       "\n",
       "    .dataframe tbody tr th {\n",
       "        vertical-align: top;\n",
       "    }\n",
       "\n",
       "    .dataframe thead th {\n",
       "        text-align: right;\n",
       "    }\n",
       "</style>\n",
       "<table border=\"1\" class=\"dataframe\">\n",
       "  <thead>\n",
       "    <tr style=\"text-align: right;\">\n",
       "      <th></th>\n",
       "      <th>Store</th>\n",
       "      <th>Date</th>\n",
       "      <th>Weekly_Sales</th>\n",
       "      <th>Holiday_Flag</th>\n",
       "      <th>Temperature</th>\n",
       "      <th>Fuel_Price</th>\n",
       "      <th>CPI</th>\n",
       "      <th>Unemployment</th>\n",
       "      <th>year</th>\n",
       "      <th>month</th>\n",
       "      <th>day</th>\n",
       "      <th>day_of_week</th>\n",
       "    </tr>\n",
       "  </thead>\n",
       "  <tbody>\n",
       "    <tr>\n",
       "      <th>0</th>\n",
       "      <td>13</td>\n",
       "      <td>01-06-2012</td>\n",
       "      <td>2035431.39</td>\n",
       "      <td>No</td>\n",
       "      <td>16.17</td>\n",
       "      <td>3.788</td>\n",
       "      <td>130.959226</td>\n",
       "      <td>5.965</td>\n",
       "      <td>2012</td>\n",
       "      <td>6</td>\n",
       "      <td>1</td>\n",
       "      <td>4</td>\n",
       "    </tr>\n",
       "    <tr>\n",
       "      <th>1</th>\n",
       "      <td>17</td>\n",
       "      <td>01-10-2010</td>\n",
       "      <td>829207.27</td>\n",
       "      <td>No</td>\n",
       "      <td>15.59</td>\n",
       "      <td>2.853</td>\n",
       "      <td>126.234600</td>\n",
       "      <td>6.885</td>\n",
       "      <td>2010</td>\n",
       "      <td>10</td>\n",
       "      <td>1</td>\n",
       "      <td>4</td>\n",
       "    </tr>\n",
       "    <tr>\n",
       "      <th>2</th>\n",
       "      <td>10</td>\n",
       "      <td>02-03-2012</td>\n",
       "      <td>1990371.02</td>\n",
       "      <td>No</td>\n",
       "      <td>14.23</td>\n",
       "      <td>3.882</td>\n",
       "      <td>130.645793</td>\n",
       "      <td>7.545</td>\n",
       "      <td>2012</td>\n",
       "      <td>3</td>\n",
       "      <td>2</td>\n",
       "      <td>4</td>\n",
       "    </tr>\n",
       "    <tr>\n",
       "      <th>3</th>\n",
       "      <td>7</td>\n",
       "      <td>02-04-2010</td>\n",
       "      <td>561145.14</td>\n",
       "      <td>No</td>\n",
       "      <td>3.48</td>\n",
       "      <td>2.725</td>\n",
       "      <td>189.704822</td>\n",
       "      <td>8.963</td>\n",
       "      <td>2010</td>\n",
       "      <td>4</td>\n",
       "      <td>2</td>\n",
       "      <td>4</td>\n",
       "    </tr>\n",
       "    <tr>\n",
       "      <th>4</th>\n",
       "      <td>19</td>\n",
       "      <td>02-07-2010</td>\n",
       "      <td>1549018.68</td>\n",
       "      <td>No</td>\n",
       "      <td>19.03</td>\n",
       "      <td>2.958</td>\n",
       "      <td>132.521867</td>\n",
       "      <td>8.099</td>\n",
       "      <td>2010</td>\n",
       "      <td>7</td>\n",
       "      <td>2</td>\n",
       "      <td>4</td>\n",
       "    </tr>\n",
       "    <tr>\n",
       "      <th>...</th>\n",
       "      <td>...</td>\n",
       "      <td>...</td>\n",
       "      <td>...</td>\n",
       "      <td>...</td>\n",
       "      <td>...</td>\n",
       "      <td>...</td>\n",
       "      <td>...</td>\n",
       "      <td>...</td>\n",
       "      <td>...</td>\n",
       "      <td>...</td>\n",
       "      <td>...</td>\n",
       "      <td>...</td>\n",
       "    </tr>\n",
       "    <tr>\n",
       "      <th>126</th>\n",
       "      <td>5</td>\n",
       "      <td>30-04-2010</td>\n",
       "      <td>298697.84</td>\n",
       "      <td>No</td>\n",
       "      <td>19.74</td>\n",
       "      <td>NaN</td>\n",
       "      <td>210.939388</td>\n",
       "      <td>NaN</td>\n",
       "      <td>2010</td>\n",
       "      <td>4</td>\n",
       "      <td>30</td>\n",
       "      <td>4</td>\n",
       "    </tr>\n",
       "    <tr>\n",
       "      <th>127</th>\n",
       "      <td>6</td>\n",
       "      <td>30-07-2010</td>\n",
       "      <td>1532308.78</td>\n",
       "      <td>No</td>\n",
       "      <td>NaN</td>\n",
       "      <td>2.640</td>\n",
       "      <td>212.894485</td>\n",
       "      <td>6.973</td>\n",
       "      <td>2010</td>\n",
       "      <td>7</td>\n",
       "      <td>30</td>\n",
       "      <td>4</td>\n",
       "    </tr>\n",
       "    <tr>\n",
       "      <th>128</th>\n",
       "      <td>19</td>\n",
       "      <td>30-07-2010</td>\n",
       "      <td>1366395.96</td>\n",
       "      <td>No</td>\n",
       "      <td>22.68</td>\n",
       "      <td>2.932</td>\n",
       "      <td>132.598387</td>\n",
       "      <td>8.099</td>\n",
       "      <td>2010</td>\n",
       "      <td>7</td>\n",
       "      <td>30</td>\n",
       "      <td>4</td>\n",
       "    </tr>\n",
       "    <tr>\n",
       "      <th>129</th>\n",
       "      <td>5</td>\n",
       "      <td>30-07-2010</td>\n",
       "      <td>268929.03</td>\n",
       "      <td>No</td>\n",
       "      <td>28.03</td>\n",
       "      <td>2.640</td>\n",
       "      <td>211.927001</td>\n",
       "      <td>6.496</td>\n",
       "      <td>2010</td>\n",
       "      <td>7</td>\n",
       "      <td>30</td>\n",
       "      <td>4</td>\n",
       "    </tr>\n",
       "    <tr>\n",
       "      <th>131</th>\n",
       "      <td>20</td>\n",
       "      <td>31-12-2010</td>\n",
       "      <td>1799737.79</td>\n",
       "      <td>Yes</td>\n",
       "      <td>-1.75</td>\n",
       "      <td>3.179</td>\n",
       "      <td>204.643227</td>\n",
       "      <td>7.484</td>\n",
       "      <td>2010</td>\n",
       "      <td>12</td>\n",
       "      <td>31</td>\n",
       "      <td>4</td>\n",
       "    </tr>\n",
       "  </tbody>\n",
       "</table>\n",
       "<p>118 rows × 12 columns</p>\n",
       "</div>"
      ],
      "text/plain": [
       "     Store        Date  Weekly_Sales Holiday_Flag  Temperature  Fuel_Price  \\\n",
       "0       13  01-06-2012    2035431.39           No        16.17       3.788   \n",
       "1       17  01-10-2010     829207.27           No        15.59       2.853   \n",
       "2       10  02-03-2012    1990371.02           No        14.23       3.882   \n",
       "3        7  02-04-2010     561145.14           No         3.48       2.725   \n",
       "4       19  02-07-2010    1549018.68           No        19.03       2.958   \n",
       "..     ...         ...           ...          ...          ...         ...   \n",
       "126      5  30-04-2010     298697.84           No        19.74         NaN   \n",
       "127      6  30-07-2010    1532308.78           No          NaN       2.640   \n",
       "128     19  30-07-2010    1366395.96           No        22.68       2.932   \n",
       "129      5  30-07-2010     268929.03           No        28.03       2.640   \n",
       "131     20  31-12-2010    1799737.79          Yes        -1.75       3.179   \n",
       "\n",
       "            CPI  Unemployment  year  month  day  day_of_week  \n",
       "0    130.959226         5.965  2012      6    1            4  \n",
       "1    126.234600         6.885  2010     10    1            4  \n",
       "2    130.645793         7.545  2012      3    2            4  \n",
       "3    189.704822         8.963  2010      4    2            4  \n",
       "4    132.521867         8.099  2010      7    2            4  \n",
       "..          ...           ...   ...    ...  ...          ...  \n",
       "126  210.939388           NaN  2010      4   30            4  \n",
       "127  212.894485         6.973  2010      7   30            4  \n",
       "128  132.598387         8.099  2010      7   30            4  \n",
       "129  211.927001         6.496  2010      7   30            4  \n",
       "131  204.643227         7.484  2010     12   31            4  \n",
       "\n",
       "[118 rows x 12 columns]"
      ]
     },
     "execution_count": 1379,
     "metadata": {},
     "output_type": "execute_result"
    }
   ],
   "source": [
    "df"
   ]
  },
  {
   "cell_type": "code",
   "execution_count": 1392,
   "metadata": {},
   "outputs": [],
   "source": [
    "X = df.drop(['Date','Weekly_Sales'],axis=1)\n",
    "y = df['Weekly_Sales']"
   ]
  },
  {
   "cell_type": "code",
   "execution_count": 1393,
   "metadata": {},
   "outputs": [],
   "source": [
    "numeric_features = ['Temperature', 'Fuel_Price','CPI', 'Unemployment']\n",
    "categorical_features = ['Store','Holiday_Flag','year','month','day','day_of_week']"
   ]
  },
  {
   "cell_type": "code",
   "execution_count": 1394,
   "metadata": {},
   "outputs": [],
   "source": [
    "numeric_transformer = Pipeline(\n",
    "    steps=[\n",
    "        ('imputer', KNNImputer()),\n",
    "        ('scaler',StandardScaler())\n",
    "    ]\n",
    ")\n",
    "categorical_transformer = Pipeline(\n",
    "    steps=[\n",
    "        ('imputer', SimpleImputer(strategy='most_frequent')),\n",
    "        ('encoder',OneHotEncoder(drop='first', handle_unknown='ignore'))\n",
    "    ]\n",
    ")"
   ]
  },
  {
   "cell_type": "code",
   "execution_count": 1395,
   "metadata": {},
   "outputs": [],
   "source": [
    "preprocessor = ColumnTransformer(\n",
    "transformers=[\n",
    "    ('num', numeric_transformer, numeric_features),\n",
    "    ('cat', categorical_transformer, categorical_features)\n",
    "    ])"
   ]
  },
  {
   "cell_type": "markdown",
   "metadata": {},
   "source": [
    "here we built a pipeline separating the categorical and numerical features, and then we used a column transformer to apply the pipeline to the categorical and numerical features. We then used a linear regression model to predict the weekly sales. We used the R-squared metric to evaluate the model."
   ]
  },
  {
   "cell_type": "code",
   "execution_count": 1404,
   "metadata": {},
   "outputs": [],
   "source": [
    "X_train, X_test, y_train, y_test = train_test_split(X, y, test_size=0.15, random_state=0)"
   ]
  },
  {
   "cell_type": "code",
   "execution_count": 1405,
   "metadata": {},
   "outputs": [
    {
     "name": "stderr",
     "output_type": "stream",
     "text": [
      "Found unknown categories in columns [4] during transform. These unknown categories will be encoded as all zeros\n"
     ]
    }
   ],
   "source": [
    "X_train = preprocessor.fit_transform(X_train)\n",
    "X_test = preprocessor.transform(X_test)"
   ]
  },
  {
   "cell_type": "code",
   "execution_count": 1406,
   "metadata": {},
   "outputs": [
    {
     "name": "stdout",
     "output_type": "stream",
     "text": [
      "R2 score on train set :  0.9952420262991455\n",
      "Standard deviation on train set : 0.07035286333868586\n",
      "R2 score on test set :  0.94130695021464\n"
     ]
    }
   ],
   "source": [
    "linear_reg = LinearRegression()\n",
    "linear_reg.fit(X_train, y_train)\n",
    "\n",
    "y_train_pred = linear_reg.predict(X_train)\n",
    "Y_test_pred = linear_reg.predict(X_test)\n",
    "\n",
    "print(\"R2 score on train set : \", r2_score(y_train, y_train_pred))\n",
    "print(\"Standard deviation on train set :\", cross_val_score(linear_reg, X_train, y_train, cv=10, scoring='r2').std())\n",
    "print(\"R2 score on test set : \", r2_score(y_test, Y_test_pred))"
   ]
  },
  {
   "cell_type": "markdown",
   "metadata": {},
   "source": [
    "after training the model, we can that we have a R2 score of 0.9952 on the training set and 0.9413 on the test set. This is a good score, but we can see that there is overfitting. We can see that the R2 score on the training set is much higher than the R2 score on the test set. This means that the model is overfitting the training set."
   ]
  },
  {
   "cell_type": "code",
   "execution_count": 1407,
   "metadata": {},
   "outputs": [
    {
     "data": {
      "image/png": "[encoded data removed]",
      "text/plain": [
       "<Figure size 900x1200 with 1 Axes>"
      ]
     },
     "metadata": {},
     "output_type": "display_data"
    }
   ],
   "source": [
    "col_names = list(preprocessor.transformers_[0][1].get_feature_names_out()) + list(preprocessor.transformers_[1][1].get_feature_names_out())\n",
    "\n",
    "coefs = pd.DataFrame(\n",
    "   abs(linear_reg.coef_),\n",
    "   columns=['Coefficients'], index=col_names\n",
    ")\n",
    "\n",
    "#sort the coefficients from the most important to the least\n",
    "coefs = coefs.sort_values(by='Coefficients', ascending=True)\n",
    "\n",
    "sns.set_style('darkgrid')\n",
    "plt.figure(figsize = (9, 12))\n",
    "sns.barplot(y=coefs.index, x=coefs.Coefficients, palette='Spectral', order=coefs.sort_values(by='Coefficients', ascending=False).index)\n",
    "# Add labels to your graph\n",
    "plt.xlabel('Coefficient Importance')\n",
    "plt.ylabel('Features')\n",
    "plt.title('Coefficient Importance in the Linear Regression Model')\n",
    "\n",
    "plt.show()\n"
   ]
  },
  {
   "cell_type": "markdown",
   "metadata": {},
   "source": [
    "this plot shows that as suspected that the Store numbers are indeed the most important features for the prediction model as the coefficient is the highest. The next most important feature is the CPI, followed by the DayOfWeek, Day, Month, Year, Temperature, Unemployment, Fuel_Price, and Holiday_Flag. "
   ]
  },
  {
   "cell_type": "markdown",
   "metadata": {},
   "source": [
    "## Part 3 : Let's fight Overfitting ! \n",
    "---\n"
   ]
  },
  {
   "cell_type": "markdown",
   "metadata": {},
   "source": [
    "the ridge model is a linear regression model with regularization. The regularization strength is a hyperparameter that can be tuned to get the best generalized predictions on a given dataset. We will use the GridSearchCV class to find the best regularization strength. We will use the same features as before, and we will use the R-squared metric to evaluate the model."
   ]
  },
  {
   "cell_type": "code",
   "execution_count": 1408,
   "metadata": {},
   "outputs": [
    {
     "name": "stdout",
     "output_type": "stream",
     "text": [
      "Best hyperparameters :  {'alpha': 0.02}\n",
      "Best validation accuracy :  0.9260266775275863\n",
      "Test set accuracy :  0.9376247998410849\n"
     ]
    }
   ],
   "source": [
    "model = Ridge()\n",
    "params = {'alpha':[0.01, 0.02, 0.05, 0.1, 0.5, 1, 10]}\n",
    "\n",
    "gridsearch = GridSearchCV(model, param_grid = params, cv = 10,scoring='r2') \n",
    "gridsearch.fit(X_train, y_train)\n",
    "print(\"Best hyperparameters : \", gridsearch.best_params_)\n",
    "print(\"Best validation accuracy : \", gridsearch.best_score_)\n",
    "print(\"Test set accuracy : \", gridsearch.score(X_test, y_test))"
   ]
  },
  {
   "cell_type": "markdown",
   "metadata": {},
   "source": [
    "the results of the grid search show that the best regularization strength is 0.02. We will now train the ridge model with the best regularization strength.\n"
   ]
  },
  {
   "cell_type": "code",
   "execution_count": 1409,
   "metadata": {},
   "outputs": [
    {
     "name": "stdout",
     "output_type": "stream",
     "text": [
      "R2 score on train set :  0.9950139431948566\n",
      "Standard deviation on train set : 0.04613575069826907\n",
      "R2 score on test set :  0.9376247998410849\n"
     ]
    }
   ],
   "source": [
    "ridge = Ridge(alpha=0.02)\n",
    "ridge.fit(X_train, y_train)\n",
    "\n",
    "y_train_pred = ridge.predict(X_train)\n",
    "Y_test_pred = ridge.predict(X_test)\n",
    "\n",
    "print(\"R2 score on train set : \", r2_score(y_train, y_train_pred))\n",
    "print(\"Standard deviation on train set :\", cross_val_score(ridge, X_train, y_train, cv=10, scoring='r2').std())\n",
    "print(\"R2 score on test set : \", r2_score(y_test, Y_test_pred))"
   ]
  },
  {
   "cell_type": "code",
   "execution_count": 1410,
   "metadata": {},
   "outputs": [
    {
     "name": "stdout",
     "output_type": "stream",
     "text": [
      "Best hyperparameters :  {'alpha': 500}\n",
      "Best validation accuracy :  0.9520285476662738\n",
      "Test set accuracy :  0.9102652754322208\n"
     ]
    }
   ],
   "source": [
    "model = Lasso(max_iter=10000)\n",
    "params = {'alpha':[0.1, 1, 10, 100, 500, 1000]}\n",
    "\n",
    "gridsearch = GridSearchCV(model, param_grid = params, cv = 10,scoring='r2')\n",
    "gridsearch.fit(X_train, y_train)\n",
    "print(\"Best hyperparameters : \", gridsearch.best_params_)\n",
    "print(\"Best validation accuracy : \", gridsearch.best_score_)\n",
    "print(\"Test set accuracy : \", gridsearch.score(X_test, y_test))\n"
   ]
  },
  {
   "cell_type": "code",
   "execution_count": 1411,
   "metadata": {},
   "outputs": [
    {
     "name": "stdout",
     "output_type": "stream",
     "text": [
      "R2 score on train set :  0.9933032042682848\n",
      "Standard deviation on train set : 0.04282199102788834\n",
      "R2 score on test set :  0.9102652754322208\n"
     ]
    }
   ],
   "source": [
    "lasso = Lasso(alpha=500, max_iter=2500)\n",
    "lasso.fit(X_train, y_train)\n",
    "\n",
    "y_train_pred = lasso.predict(X_train)\n",
    "Y_test_pred = lasso.predict(X_test)\n",
    "\n",
    "print(\"R2 score on train set : \", r2_score(y_train, y_train_pred))\n",
    "print(\"Standard deviation on train set :\", cross_val_score(lasso, X_train, y_train, cv=10, scoring='r2').std())\n",
    "print(\"R2 score on test set : \", r2_score(y_test, Y_test_pred))"
   ]
  },
  {
   "cell_type": "markdown",
   "metadata": {},
   "source": [
    "the best solution to fight overfitting is "
   ]
  }
 ],
 "metadata": {
  "kernelspec": {
   "display_name": "Python 3.10.9 64-bit (microsoft store)",
   "language": "python",
   "name": "python3"
  },
  "language_info": {
   "codemirror_mode": {
    "name": "ipython",
    "version": 3
   },
   "file_extension": ".py",
   "mimetype": "text/x-python",
   "name": "python",
   "nbconvert_exporter": "python",
   "pygments_lexer": "ipython3",
   "version": "3.10.9"
  },
  "vscode": {
   "interpreter": {
    "hash": "cc2a200e1e6dab10c4dc3986f0e7a998296447c993c26561a1bd050a849d8214"
   }
  }
 },
 "nbformat": 4,
 "nbformat_minor": 4
}
